{
 "cells": [
  {
   "cell_type": "markdown",
   "id": "4624fb1e",
   "metadata": {},
   "source": [
    "# Extract"
   ]
  },
  {
   "cell_type": "code",
   "execution_count": null,
   "id": "6f6576dd",
   "metadata": {},
   "outputs": [],
   "source": [
    "import pandas as pd"
   ]
  },
  {
   "cell_type": "code",
   "execution_count": null,
   "id": "28067062",
   "metadata": {},
   "outputs": [],
   "source": [
    "df_participant = pd.read_csv('https://storage.googleapis.com/dqlab-dataset/dqthon-participants.csv')"
   ]
  },
  {
   "cell_type": "markdown",
   "id": "b061b58b",
   "metadata": {},
   "source": [
    "# Transform"
   ]
  },
  {
   "cell_type": "markdown",
   "id": "e613d1d8",
   "metadata": {},
   "source": [
    "## Transform Bagian I - Kode Pos"
   ]
  },
  {
   "cell_type": "code",
   "execution_count": null,
   "id": "572c4a63",
   "metadata": {},
   "outputs": [],
   "source": [
    "import pandas as pd\n",
    "\n",
    "df_participant = pd.read_csv('https://storage.googleapis.com/dqlab-dataset/dqthon-participants.csv')\n",
    "df_participant['postal_code'] = df_participant['address'].str.extract(r'(\\d+)$') # Masukkan regex Anda didalam fungsi extract"
   ]
  },
  {
   "cell_type": "markdown",
   "id": "7374c20b",
   "metadata": {},
   "source": [
    "## Transform Bagian II - Kota"
   ]
  },
  {
   "cell_type": "code",
   "execution_count": null,
   "id": "96fdd832",
   "metadata": {},
   "outputs": [],
   "source": [
    "import pandas as pd\n",
    "\n",
    "df_participant = pd.read_csv('https://storage.googleapis.com/dqlab-dataset/dqthon-participants.csv')\n",
    "df_participant['postal_code'] = df_participant['address'].str.extract(r'(\\d+)$')\n",
    "\n",
    "#Masukkan regex Anda didalam fungsi extract\n",
    "df_participant['city'] = df_participant['address'].str.extract(r'(?<=\\n)(\\w.+)(?=,)')"
   ]
  },
  {
   "cell_type": "markdown",
   "id": "41287a9c",
   "metadata": {},
   "source": [
    "## Transform Bagian III - Github"
   ]
  },
  {
   "cell_type": "code",
   "execution_count": null,
   "id": "20ff3daa",
   "metadata": {},
   "outputs": [],
   "source": [
    "import pandas as pd\n",
    "df_participant = pd.read_csv('https://storage.googleapis.com/dqlab-dataset/dqthon-participants.csv')\n",
    "df_participant['postal_code'] = df_participant['address'].str.extract(r'(\\d+)$')\n",
    "df_participant['city'] = df_participant['address'].str.extract(r'(?<=\\n)(\\w.+)(?=,)') \n",
    "df_participant['github_profile'] = 'https://github.com/' + df_participant['first_name'].str.lower() + df_participant['last_name'].str.lower()"
   ]
  },
  {
   "cell_type": "markdown",
   "id": "fab0b6db",
   "metadata": {},
   "source": [
    "## Transform Bagian IV - Nomor Handphone"
   ]
  },
  {
   "cell_type": "code",
   "execution_count": null,
   "id": "a2b72fb2",
   "metadata": {},
   "outputs": [],
   "source": [
    "import pandas as pd\n",
    "\n",
    "df_participant = pd.read_csv('https://storage.googleapis.com/dqlab-dataset/dqthon-participants.csv')\n",
    "df_participant['postal_code'] = df_participant['address'].str.extract(r'(\\d+)$')\n",
    "df_participant['city'] = df_participant['address'].str.extract(r'(?<=\\n)(\\w.+)(?=,)') \n",
    "df_participant['github_profile'] = 'https://github.com/' + df_participant['first_name'].str.lower() + df_participant['last_name'].str.lower()\n",
    "\n",
    "#Masukkan regex anda pada parameter pertama dari fungsi replace\n",
    "df_participant['cleaned_phone_number'] = df_participant['phone_number'].str.replace(r'(\\+62|62)', '0')\n",
    "df_participant['cleaned_phone_number'] = df_participant['cleaned_phone_number'].str.replace(r'[()-]', '')\n",
    "df_participant['cleaned_phone_number'] = df_participant['cleaned_phone_number'].str.replace(r'\\s+', '')"
   ]
  },
  {
   "cell_type": "markdown",
   "id": "67b8996b",
   "metadata": {},
   "source": [
    "## Transform Bagian V - Nama Tim"
   ]
  },
  {
   "cell_type": "code",
   "execution_count": null,
   "id": "5a18257f",
   "metadata": {},
   "outputs": [],
   "source": [
    "import pandas as pd\n",
    "\n",
    "df_participant = pd.read_csv('https://storage.googleapis.com/dqlab-dataset/dqthon-participants.csv')\n",
    "df_participant['postal_code'] = df_participant['address'].str.extract(r'(\\d+)$')\n",
    "df_participant['city'] = df_participant['address'].str.extract(r'(?<=\\n)(\\w.+)(?=,)') \n",
    "df_participant['github_profile'] = 'https://github.com/' + df_participant['first_name'].str.lower() + df_participant['last_name'].str.lower()\n",
    "df_participant['cleaned_phone_number'] = df_participant['phone_number'].str.replace(r'^(\\+62|62)', '0')\n",
    "df_participant['cleaned_phone_number'] = df_participant['cleaned_phone_number'].str.replace(r'[()-]', '')\n",
    "df_participant['cleaned_phone_number'] = df_participant['cleaned_phone_number'].str.replace(r'\\s+', '')\n",
    "\n",
    "def func(col):\n",
    "    abbrev_name = \"%s%s\"%(col['first_name'][0],col['last_name'][0]) #Singkatan dari Nama Depan dan Nama Belakang dengan mengambil huruf pertama\n",
    "    country = col['country']\n",
    "    abbrev_institute = '%s'%(''.join(list(map(lambda word: word[0], col['institute'].split())))) #Singkatan dari value di kolom institute\n",
    "    return \"%s-%s-%s\"%(abbrev_name,country,abbrev_institute)\n",
    "\n",
    "df_participant['team_name'] = df_participant.apply(func, axis=1)"
   ]
  },
  {
   "cell_type": "markdown",
   "id": "f5cfa5fd",
   "metadata": {},
   "source": [
    "## Transform Bagian VI - Email"
   ]
  },
  {
   "cell_type": "code",
   "execution_count": null,
   "id": "c312b80f",
   "metadata": {},
   "outputs": [],
   "source": [
    "import pandas as pd\n",
    "\n",
    "df_participant = pd.read_csv('https://storage.googleapis.com/dqlab-dataset/dqthon-participants.csv')\n",
    "df_participant['postal_code'] = df_participant['address'].str.extract(r'(\\d+)$')\n",
    "df_participant['city'] = df_participant['address'].str.extract(r'(?<=\\n)(\\w.+)(?=,)') \n",
    "df_participant['github_profile'] = 'https://github.com/' + df_participant['first_name'].str.lower() + df_participant['last_name'].str.lower()\n",
    "df_participant['cleaned_phone_number'] = df_participant['phone_number'].str.replace(r'^(\\+62|62)', '0')\n",
    "df_participant['cleaned_phone_number'] = df_participant['cleaned_phone_number'].str.replace(r'[()-]', '')\n",
    "df_participant['cleaned_phone_number'] = df_participant['cleaned_phone_number'].str.replace(r'\\s+', '')\n",
    "\n",
    "def func(col):\n",
    "    abbrev_name = \"%s%s\"%(col['first_name'][0],col['last_name'][0])\n",
    "    country = col['country']\n",
    "    abbrev_institute = '%s'%(''.join(list(map(lambda word: word[0], col['institute'].split()))))\n",
    "    return \"%s-%s-%s\"%(abbrev_name,country,abbrev_institute)\n",
    "df_participant['team_name'] = df_participant.apply(func, axis=1)\n",
    "\n",
    "def func(col):\n",
    "    first_name_lower = col['first_name'].lower()\n",
    "    last_name_lower = col['last_name'].lower()\n",
    "    institute = ''.join(list(map(lambda word: word[0], col['institute'].lower().split()))) #Singkatan dari nama perusahaan dalam lowercase\n",
    "\n",
    "    if 'Universitas' in col['institute']:\n",
    "        if len(col['country'].split()) > 1: #Kondisi untuk mengecek apakah jumlah kata dari country lebih dari 1\n",
    "            country = ''.join(list(map(lambda word: word[0], col['country'].lower().split())))\n",
    "        else:\n",
    "            country = col['country'][:3].lower()\n",
    "        return \"%s%s@%s.ac.%s\"%(first_name_lower,last_name_lower,institute,country)\n",
    "\n",
    "    return \"%s%s@%s.com\"%(first_name_lower,last_name_lower,institute)\n",
    "\n",
    "df_participant['email'] = df_participant.apply(func, axis=1)"
   ]
  },
  {
   "cell_type": "markdown",
   "id": "10c96d4b",
   "metadata": {},
   "source": [
    "## Transform Bagian VII - Tanggal Lahir"
   ]
  },
  {
   "cell_type": "code",
   "execution_count": null,
   "id": "502f5788",
   "metadata": {},
   "outputs": [],
   "source": [
    "import pandas as pd\n",
    "\n",
    "df_participant = pd.read_csv('https://storage.googleapis.com/dqlab-dataset/dqthon-participants.csv')\n",
    "df_participant['postal_code'] = df_participant['address'].str.extract(r'(\\d+)$')\n",
    "df_participant['city'] = df_participant['address'].str.extract(r'(?<=\\n)(\\w.+)(?=,)') \n",
    "df_participant['github_profile'] = 'https://github.com/' + df_participant['first_name'].str.lower() + df_participant['last_name'].str.lower()\n",
    "df_participant['cleaned_phone_number'] = df_participant['phone_number'].str.replace(r'^(\\+62|62)', '0')\n",
    "df_participant['cleaned_phone_number'] = df_participant['cleaned_phone_number'].str.replace(r'[()-]', '')\n",
    "df_participant['cleaned_phone_number'] = df_participant['cleaned_phone_number'].str.replace(r'\\s+', '')\n",
    "\n",
    "def func(col):\n",
    "    abbrev_name = \"%s%s\"%(col['first_name'][0],col['last_name'][0])\n",
    "    country = col['country']\n",
    "    abbrev_institute = '%s'%(''.join(list(map(lambda word: word[0], col['institute'].split()))))\n",
    "    return \"%s-%s-%s\"%(abbrev_name,country,abbrev_institute)\n",
    "df_participant['team_name'] = df_participant.apply(func, axis=1)\n",
    "\n",
    "def func(col):\n",
    "    first_name_lower = col['first_name'].lower()\n",
    "    last_name_lower = col['last_name'].lower()\n",
    "    institute = ''.join(list(map(lambda word: word[0], col['institute'].lower().split())))\n",
    "    \n",
    "    if 'Universitas' in col['institute']:\n",
    "        if len(col['country'].split()) > 1:\n",
    "            country = ''.join(list(map(lambda word: word[0], col['country'].lower().split())))\n",
    "        else:\n",
    "            country = col['country'][:3].lower()\n",
    "        return \"%s%s@%s.ac.%s\"%(first_name_lower,last_name_lower,institute,country)\n",
    "        \n",
    "    return \"%s%s@%s.com\"%(first_name_lower,last_name_lower,institute)\n",
    "    \n",
    "df_participant['email'] = df_participant.apply(func, axis=1)\n",
    "\n",
    "\n",
    "df_participant['birth_date'] = pd.to_datetime(df_participant['birth_date'], format='%d %b %Y')"
   ]
  },
  {
   "cell_type": "markdown",
   "id": "b00616fb",
   "metadata": {},
   "source": [
    "## Transform Bagian VII - Tanggal Daftar Kompetisi"
   ]
  },
  {
   "cell_type": "code",
   "execution_count": null,
   "id": "27e6fb33",
   "metadata": {},
   "outputs": [],
   "source": [
    "import pandas as pd\n",
    "\n",
    "df_participant = pd.read_csv('https://storage.googleapis.com/dqlab-dataset/dqthon-participants.csv')\n",
    "df_participant['postal_code'] = df_participant['address'].str.extract(r'(\\d+)$')\n",
    "df_participant['city'] = df_participant['address'].str.extract(r'(?<=\\n)(\\w.+)(?=,)') \n",
    "df_participant['github_profile'] = 'https://github.com/' + df_participant['first_name'].str.lower() + df_participant['last_name'].str.lower()\n",
    "df_participant['cleaned_phone_number'] = df_participant['phone_number'].str.replace(r'^(\\+62|62)', '0')\n",
    "df_participant['cleaned_phone_number'] = df_participant['cleaned_phone_number'].str.replace(r'[()-]', '')\n",
    "df_participant['cleaned_phone_number'] = df_participant['cleaned_phone_number'].str.replace(r'\\s+', '')\n",
    "\n",
    "def func(col):\n",
    "    abbrev_name = \"%s%s\"%(col['first_name'][0],col['last_name'][0])\n",
    "    country = col['country']\n",
    "    abbrev_institute = '%s'%(''.join(list(map(lambda word: word[0], col['institute'].split()))))\n",
    "    return \"%s-%s-%s\"%(abbrev_name,country,abbrev_institute)\n",
    "df_participant['team_name'] = df_participant.apply(func, axis=1)\n",
    "\n",
    "def func(col):\n",
    "    first_name_lower = col['first_name'].lower()\n",
    "    last_name_lower = col['last_name'].lower()\n",
    "    institute = ''.join(list(map(lambda word: word[0], col['institute'].lower().split())))\n",
    "    \n",
    "    if 'Universitas' in col['institute']:\n",
    "        if len(col['country'].split()) > 1:\n",
    "            country = ''.join(list(map(lambda word: word[0], col['country'].lower().split())))\n",
    "        else:\n",
    "            country = col['country'][:3].lower()\n",
    "        return \"%s%s@%s.ac.%s\"%(first_name_lower,last_name_lower,institute,country)\n",
    "        \n",
    "    return \"%s%s@%s.com\"%(first_name_lower,last_name_lower,institute)\n",
    "    \n",
    "df_participant['email'] = df_participant.apply(func, axis=1)\n",
    "df_participant['birth_date'] = pd.to_datetime(df_participant['birth_date'], format='%d %b %Y')\n",
    "\n",
    "\n",
    "df_participant['register_at'] = pd.to_datetime(df_participant['register_time'], unit='s')"
   ]
  }
 ],
 "metadata": {
  "kernelspec": {
   "display_name": "Python 3 (ipykernel)",
   "language": "python",
   "name": "python3"
  },
  "language_info": {
   "codemirror_mode": {
    "name": "ipython",
    "version": 3
   },
   "file_extension": ".py",
   "mimetype": "text/x-python",
   "name": "python",
   "nbconvert_exporter": "python",
   "pygments_lexer": "ipython3",
   "version": "3.9.13"
  }
 },
 "nbformat": 4,
 "nbformat_minor": 5
}
