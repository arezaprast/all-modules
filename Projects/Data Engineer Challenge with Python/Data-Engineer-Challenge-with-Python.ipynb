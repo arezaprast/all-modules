{
 "cells": [
  {
   "cell_type": "markdown",
   "id": "12436180",
   "metadata": {},
   "source": [
    "# Data Engineer Challenge with Python"
   ]
  },
  {
   "cell_type": "markdown",
   "id": "8da91468",
   "metadata": {},
   "source": [
    "## Web Scrapping\n",
    "\n",
    "Sebagai seorang Data Engineer, Anda diminta untuk menggali informasi dari https://id.wikipedia.org/wiki/Demografi_Indonesia menggunakan bahasa pemrograman Python. \n",
    "Buatlah suatu script Python untuk menyimpan tabel \"Jumlah Penduduk menurut Provinsi\" dari web tersebut dengan format CSV.\n",
    "File CSV menggunakan format double-apostrophe quoting ('...') dan disimpan dengan nama 'Indonesia_Demography_by_Province.csv'.\n",
    "Kolom yang perlu Anda ambil adalah sebagai berikut.\n",
    "- Nama provinsi \n",
    "- Luas (km2)\n",
    "- Populasi (2010)\n",
    "- Populasi (2020)\n",
    "\n",
    "Dataframe yang akan kamu buat diassign dengan nama variabel df."
   ]
  },
  {
   "cell_type": "code",
   "execution_count": null,
   "id": "1698ebe1",
   "metadata": {},
   "outputs": [],
   "source": [
    "#import library yang dibutuhkan\n",
    "import pandas as pd\n",
    "import requests\n",
    "from bs4 import BeautifulSoup\n",
    "\n",
    "#buatlah request ke website\n",
    "website_url = requests.get('https://id.wikipedia.org/wiki/Demografi_Indonesia').text\n",
    "soup = BeautifulSoup(website_url, 'lxml')\n",
    "\n",
    "#ambil table dengan class 'wikitable sortable'\n",
    "my_table = soup.find('table', {'class':'wikitable sortable'})\n",
    "\n",
    "#cari data dengan tag 'td'\n",
    "links = my_table.findAll('td')\n",
    "\n",
    "#buatlah lists kosong \n",
    "nama = []\n",
    "luas_km = []\n",
    "populasi10 = []\n",
    "populasi20 = []\n",
    "\n",
    "#memasukkan data ke dalam list berdasarkan pola HTML\n",
    "for i, link in enumerate(links):\n",
    "    if i in range(0, len(links), 4):\n",
    "        nama.append(link.get_text()[:-1])\n",
    "    if i in range(1, len(links), 4):\n",
    "        luas_km.append(link.get_text()[:-1])\n",
    "    if i in range(2, len(links), 4):\n",
    "        populasi10.append(link.get_text()[:-1])\n",
    "    if i in range(3, len(links), 4):\n",
    "        populasi20.append(link.get_text()[:-1])\n",
    "\n",
    "#buatlah DataFrame dan masukkan ke CSV\n",
    "df = pd.DataFrame()\n",
    "df['Nama Provinsi'] = nama\n",
    "df['Luas km'] = luas_km\n",
    "df['Populasi 2010'] = populasi10\n",
    "df['Populasi 2020'] = populasi20\n",
    "df.to_csv('Indonesia_Demography_by_Province.csv', index=False, encoding='utf-8', quoting=1)\n",
    "print(df)"
   ]
  },
  {
   "cell_type": "markdown",
   "id": "e12b959d",
   "metadata": {},
   "source": [
    "## Function and Regular Expression\n",
    "\n",
    "Sebagai seorang Data Engineer, Anda diminta untuk membuat suatu fungsi yang bernama “email_check” untuk menyaring beberapa email menggunakan regular expression dalam bahasa pemrograman Python. Fungsi ini akan menerima suatu parameter yang bernama “input” yang mana merupakan email dan output-nya akan berupa “Pass” atau “Not Pass”."
   ]
  },
  {
   "cell_type": "code",
   "execution_count": null,
   "id": "60b67503",
   "metadata": {},
   "outputs": [],
   "source": [
    "#import library yang dibutuhkan\n",
    "import re\n",
    "\n",
    "#function email_check\n",
    "def email_check(input):\n",
    "    match = re.search('(?=^((?!-).)*$)(?=[^0-9])((?=^((?!\\.\\d).)*$)|(?=.*_))',input)\n",
    "    if match:\n",
    "        print('Pass')\n",
    "    else:\n",
    "        print('Not Pass')\n",
    "\n",
    "#Masukkan data email ke dalam list\n",
    "emails = ['my-name@someemail.com', \n",
    "          'myname@someemail.com', \n",
    "          'my.name@someemail.com', \n",
    "          'my.name2019@someemail.com', \n",
    "          'my.name.2019@someemail.com', \n",
    "          'somename.201903@someemail.com', \n",
    "          'my_name.201903@someemail.com', \n",
    "          '201903myname@someemail.com', \n",
    "          '201903.myname@someemail.com']\n",
    "\n",
    "#Looping untuk pengecekan Pass atau Not Pass, gunakan variabel email untuk mengiterasi emails\n",
    "for email in emails:\n",
    "    email_check(email)"
   ]
  }
 ],
 "metadata": {
  "kernelspec": {
   "display_name": "Python 3 (ipykernel)",
   "language": "python",
   "name": "python3"
  },
  "language_info": {
   "codemirror_mode": {
    "name": "ipython",
    "version": 3
   },
   "file_extension": ".py",
   "mimetype": "text/x-python",
   "name": "python",
   "nbconvert_exporter": "python",
   "pygments_lexer": "ipython3",
   "version": "3.9.13"
  }
 },
 "nbformat": 4,
 "nbformat_minor": 5
}
